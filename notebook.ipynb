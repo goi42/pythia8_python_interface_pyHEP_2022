{
 "cells": [
  {
   "cell_type": "markdown",
   "id": "ee211019",
   "metadata": {},
   "source": [
    "![Pythia logo.](https://pythia.org/fig/pythia-logo-b.png)\n",
    "# The Pythia 8 Python interface\n",
    "\n",
    "Presented by Michael K. Wilkinson and Philip Ilten (School of Physics, University of Cincinnati).\n",
    "\n",
    "Based on the Pythia 8.3 Python Worksheet, written by Torbjörn Sjöstrand (Department of Astronomy and Theoretical Physics, Lund University), Peter Skands (School of Physics, Monash University), Stefan Prestel, Philip Ilten (School of Physics, University of Cincinnati), and Leif Gellerson (Department of Astronomy and Theoretical Physics, Lund University)\n",
    "\n",
    "$\\renewcommand{\\gtrsim}{\\raisebox{-2mm}{\\hspace{1mm}\\stackrel{>}{\\sim}\\hspace{1mm}}}$\n",
    "$\\renewcommand{\\lessim}{\\raisebox{-2mm}{\\hspace{1mm}\\stackrel{<}{\\sim}\\hspace{1mm}}}$\n",
    "$\\renewcommand{\\as}{\\alpha_{\\mathrm{s}}}$\n",
    "$\\renewcommand{\\aem}{\\alpha_{\\mathrm{em}}}$\n",
    "$\\renewcommand{\\kT}{k_{\\perp}}$\n",
    "$\\renewcommand{\\pT}{p_{\\perp}}$\n",
    "$\\renewcommand{\\pTs}{p^2_{\\perp}}$\n",
    "$\\renewcommand{\\pTe}{\\p_{\\perp\\mrm{evol}}}$\n",
    "$\\renewcommand{\\pTse}{\\p^2_{\\perp\\mrm{evol}}}$\n",
    "$\\renewcommand{\\pTmin}{p_{\\perp\\mathrm{min}}}$\n",
    "$\\renewcommand{\\pTsmim}{p^2_{\\perp\\mathrm{min}}}$\n",
    "$\\renewcommand{\\pTmax}{p_{\\perp\\mathrm{max}}}$\n",
    "$\\renewcommand{\\pTsmax}{p^2_{\\perp\\mathrm{max}}}$\n",
    "$\\renewcommand{\\pTL}{p_{\\perp\\mathrm{L}}}$\n",
    "$\\renewcommand{\\pTD}{p_{\\perp\\mathrm{D}}}$\n",
    "$\\renewcommand{\\pTA}{p_{\\perp\\mathrm{A}}}$\n",
    "$\\renewcommand{\\pTsL}{p^2_{\\perp\\mathrm{L}}}$\n",
    "$\\renewcommand{\\pTsD}{p^2_{\\perp\\mathrm{D}}}$\n",
    "$\\renewcommand{\\pTsA}{p^2_{\\perp\\mathrm{A}}}$\n",
    "$\\renewcommand{\\pTo}{p_{\\perp 0}}$\n",
    "$\\renewcommand{\\shat}{\\hat{s}}$\n",
    "$\\renewcommand{\\a}{{\\mathrm a}}$\n",
    "$\\renewcommand{\\b}{{\\mathrm b}}$\n",
    "$\\renewcommand{\\c}{{\\mathrm c}}$\n",
    "$\\renewcommand{\\d}{{\\mathrm d}}$\n",
    "$\\renewcommand{\\e}{{\\mathrm e}}$\n",
    "$\\renewcommand{\\f}{{\\mathrm f}}$\n",
    "$\\renewcommand{\\g}{{\\mathrm g}}$\n",
    "$\\renewcommand{\\hrm}{{\\mathrm h}}$\n",
    "$\\renewcommand{\\lrm}{{\\mathrm l}}$\n",
    "$\\renewcommand{\\n}{{\\mathrm n}}$\n",
    "$\\renewcommand{\\p}{{\\mathrm p}}$\n",
    "$\\renewcommand{\\q}{{\\mathrm q}}$\n",
    "$\\renewcommand{\\s}{{\\mathrm s}}$\n",
    "$\\renewcommand{\\t}{{\\mathrm t}}$\n",
    "$\\renewcommand{\\u}{{\\mathrm u}}$\n",
    "$\\renewcommand{\\A}{{\\mathrm A}}$\n",
    "$\\renewcommand{\\B}{{\\mathrm B}}$\n",
    "$\\renewcommand{\\D}{{\\mathrm D}}$\n",
    "$\\renewcommand{\\F}{{\\mathrm F}}$\n",
    "$\\renewcommand{\\H}{{\\mathrm H}}$\n",
    "$\\renewcommand{\\J}{{\\mathrm J}}$\n",
    "$\\renewcommand{\\K}{{\\mathrm K}}$\n",
    "$\\renewcommand{\\L}{{\\mathrm L}}$\n",
    "$\\renewcommand{\\Q}{{\\mathrm Q}}$\n",
    "$\\renewcommand{\\R}{{\\mathrm R}}$\n",
    "$\\renewcommand{\\T}{{\\mathrm T}}$\n",
    "$\\renewcommand{\\W}{{\\mathrm W}}$\n",
    "$\\renewcommand{\\Z}{{\\mathrm Z}}$\n",
    "$\\renewcommand{\\bbar}{\\overline{\\mathrm b}}$\n",
    "$\\renewcommand{\\cbar}{\\overline{\\mathrm c}}$\n",
    "$\\renewcommand{\\dbar}{\\overline{\\mathrm d}}$\n",
    "$\\renewcommand{\\fbar}{\\overline{\\mathrm f}}$\n",
    "$\\renewcommand{\\pbar}{\\overline{\\mathrm p}}$\n",
    "$\\renewcommand{\\qbar}{\\overline{\\mathrm q}}$\n",
    "$\\renewcommand{\\rbar}{\\overline{\\mathrm{r}}}$\n",
    "$\\renewcommand{\\sbar}{\\overline{\\mathrm s}}$\n",
    "$\\renewcommand{\\tbar}{\\overline{\\mathrm t}}$\n",
    "$\\renewcommand{\\ubar}{\\overline{\\mathrm u}}$\n",
    "$\\renewcommand{\\Bbar}{\\overline{\\mathrm B}}$\n",
    "$\\renewcommand{\\Fbar}{\\overline{\\mathrm F}}$\n",
    "$\\renewcommand{\\Qbar}{\\overline{\\mathrm Q}}$\n",
    "$\\renewcommand{\\tms}{{t_{\\mathrm{\\tiny MS}}}}$\n",
    "$\\renewcommand{\\Oas}[1]{{\\mathcal{O}\\left(\\as^{#1}\\right)}}$"
   ]
  },
  {
   "cell_type": "code",
   "execution_count": null,
   "id": "8cc342d5",
   "metadata": {},
   "outputs": [],
   "source": [
    "# redirect C++ stdout to python\n",
    "from wurlitzer import sys_pipes_forever\n",
    "sys_pipes_forever()"
   ]
  },
  {
   "cell_type": "markdown",
   "id": "36f8dc01",
   "metadata": {},
   "source": [
    "## Introduction\n",
    "\n",
    "Pythia is a standard tool for the generation of high-energy collisions,\n",
    "comprising a coherent set of physics models for the evolution from a few-body high-energy (\"hard\") scattering process to a complex multihadronic final state.\n",
    "The particles are produced in vacuum.\n",
    "Simulation of the interaction of the produced particles with detector material is not included in Pythia but can, if needed, be done by interfacing to external detector-simulation codes.\n",
    "The Pythia 8.3 code package contains a library of hard interactions and models for initial- and final-state parton showers, multiple parton-parton interactions, beam remnants, string fragmentation, and particle decays.\n",
    "It also has a set of utilities and interfaces to external programs.\n",
    "Full Pythia documentation can be found [here](https://pythia.org/documentation/).\n",
    "\n",
    "Pythia has included a Python interface to the underlying C++ since `v8.219`,\n",
    "and it was redesigned to handle C++11 using `pyBind11` since `v8.301`,\n",
    "allowing users to generate a [custom Python interface](https://pythia.org/latest-manual/PythonInterface.html).\n",
    "The binding interface is bi-directional,\n",
    "so not only can you pass a (C++) Pythia object to Python,\n",
    "you can create a Python object and pass it to Pythia\n",
    "(example [here](https://pythia.org/latest-manual/examples/main10-python.html)).\n",
    "\n",
    "This notebook talk will showcase the power and flexibility of\n",
    "Pythia's default, simplified Python interface by presenting its basic features\n",
    "and walking through a simple event-generation and analysis workflow.\n",
    "\n",
    "Pythia 8 is a small, standalone package, easily installed on a laptop.\n",
    "Official installation instructions can be found [here](https://pythia.org/releases/),\n",
    "but it is also available on [conda-forge](https://anaconda.org/conda-forge/pythia8).\n",
    "You may also want to look at the [Conda environment file](environment.yml) used for this talk."
   ]
  },
  {
   "cell_type": "markdown",
   "id": "d28531d7",
   "metadata": {},
   "source": [
    "## Basic principles\n",
    "\n",
    "We will now generate a single event at the LHC, using Pythia's Python interface."
   ]
  },
  {
   "cell_type": "code",
   "execution_count": null,
   "id": "f5ce7b17",
   "metadata": {},
   "outputs": [],
   "source": [
    "# import the Pythia module\n",
    "import pythia8"
   ]
  },
  {
   "cell_type": "code",
   "execution_count": null,
   "id": "04045327",
   "metadata": {},
   "outputs": [],
   "source": [
    "# create a Pythia object\n",
    "pythia = pythia8.Pythia()"
   ]
  },
  {
   "cell_type": "markdown",
   "id": "64d4afca",
   "metadata": {},
   "source": [
    "We now tell Pythia what to simulate.\n",
    "The syntax is described in the [HTML manual](https://pythia.org/latest-manual/SettingsScheme.html).\n",
    "For this example, we will simulate $ \\g \\g \\to \\t \\tbar $,\n",
    "described [here](https://pythia.org/latest-manual/TopProcesses.html).\n",
    "\n",
    "<!-- Pythia allows for a lot of customization of the simulated processes.\n",
    "The Soft QCD processes are intended to represent the total cross-section\n",
    "of hadron collisions, and `SoftQCD:all = on` indicates that we want all of them.\n",
    "We could also turn on specific processes to study them in more detail,\n",
    "as described in the [HTML manual](https://pythia.org/latest-manual/QCDSoftProcesses.html). -->"
   ]
  },
  {
   "cell_type": "code",
   "execution_count": null,
   "id": "61e9422d",
   "metadata": {},
   "outputs": [],
   "source": [
    "# configure Pythia\n",
    "pythia.readString(\"Beams:eCM = 13000.\")  # 13 TeV CM energy\n",
    "pythia.readString(\"Top:gg2ttbar = on\")  # switch on process"
   ]
  },
  {
   "cell_type": "code",
   "execution_count": null,
   "id": "91c13003",
   "metadata": {},
   "outputs": [],
   "source": [
    "# initialize (incoming pp beams are default)\n",
    "pythia.init()"
   ]
  },
  {
   "cell_type": "code",
   "execution_count": null,
   "id": "883a1a14",
   "metadata": {},
   "outputs": [],
   "source": [
    "# generate an(other) event, fill event record\n",
    "pythia.next()"
   ]
  },
  {
   "cell_type": "markdown",
   "id": "9227d662",
   "metadata": {},
   "source": [
    "We can now access the [event record](https://pythia.org/manuals/pythia8307/EventRecord.html)\n",
    "using the `pythia.event` object.\n",
    "It may be thought of as a vector of particles, expanded by Pythia as more particles are generated,\n",
    "which can be accessed by index, e.g., `pythia.event[i]`.\n",
    "The first three indices (0, 1, and 2) are reserved for the event as a whole and the two incoming beams, respectively;\n",
    "indices ≥3 correspond to the particles produced from the collision and their daughters."
   ]
  },
  {
   "cell_type": "markdown",
   "id": "a42f893f",
   "metadata": {},
   "source": [
    "`pythia.event[i]` returns a member of the [`Particle` class](https://pythia.org/latest-manual/ParticleProperties.html),\n",
    "which stores information about the particle itself,\n",
    "as well as information about its mother, decay status, etc."
   ]
  },
  {
   "cell_type": "markdown",
   "id": "c6b5543e",
   "metadata": {},
   "source": [
    "Let's explore some of the information in the event record."
   ]
  },
  {
   "cell_type": "code",
   "execution_count": null,
   "id": "8a989857",
   "metadata": {},
   "outputs": [],
   "source": [
    "# the total energy of the event in GeV\n",
    "pythia.event[0].e()"
   ]
  },
  {
   "cell_type": "code",
   "execution_count": null,
   "id": "8a989857",
   "metadata": {},
   "outputs": [],
   "source": [
    "# the total momentum of the event in GeV\n",
    "pythia.event[0].pAbs()"
   ]
  },
  {
   "cell_type": "code",
   "execution_count": null,
   "id": "bd28f591",
   "metadata": {},
   "outputs": [],
   "source": [
    "# the energy of the incoming beams in GeV\n",
    "pythia.event[1].e(), pythia.event[2].e()"
   ]
  },
  {
   "cell_type": "code",
   "execution_count": null,
   "id": "bd28f591",
   "metadata": {},
   "outputs": [],
   "source": [
    "# the momentum of the incoming beams in GeV\n",
    "pythia.event[1].pAbs(), pythia.event[2].pAbs()"
   ]
  },
  {
   "cell_type": "code",
   "execution_count": null,
   "id": "bd28f591",
   "metadata": {},
   "outputs": [],
   "source": [
    "# their identities (using the PDG MC Particle Numbering Scheme)\n",
    "pythia.event[1].id(), pythia.event[2].id()"
   ]
  },
  {
   "cell_type": "code",
   "execution_count": null,
   "id": "bd28f591",
   "metadata": {},
   "outputs": [],
   "source": [
    "# their masses in GeV\n",
    "pythia.event[1].m(), pythia.event[2].m()"
   ]
  },
  {
   "cell_type": "code",
   "execution_count": null,
   "id": "634819b6",
   "metadata": {},
   "outputs": [],
   "source": [
    "# we can see all properties using Python's built-in help\n",
    "p = pythia.event[1]\n",
    "help(p)"
   ]
  },
  {
   "cell_type": "code",
   "execution_count": null,
   "id": "ed7b7911",
   "metadata": {},
   "outputs": [],
   "source": [
    "# ... or using Jupyter's auto-complete (tab or control-space)\n",
    "p."
   ]
  },
  {
   "cell_type": "markdown",
   "id": "4af6a4ea",
   "metadata": {},
   "source": [
    "The [HTML documentation](https://pythia.org/latest-manual/ParticleProperties.html)\n",
    "is the best reference."
   ]
  },
  {
   "cell_type": "markdown",
   "id": "51890f9e",
   "metadata": {},
   "source": [
    "An important part of the event record is that many copies of the same particle may exist, but only those with a positive [status code](https://pythia.org/latest-manual/ParticleProperties.html#anchor2) (`pythia.event[i].status()`) are still present in the final state. To exemplify, consider a top quark produced in the hard interaction, initially with positive status code. When later a shower branching $ \\t \\to \\t \\g $ occurs, the new $\\t$ and $\\g$ are added at the bottom of the then-current event record, but the old $\\t$ is **not removed**. It is marked as decayed, however, by negating its status code. At any stage of the shower there is thus only one \"current\" copy of the top. After the shower, when the final top decays, $\\t \\to \\b \\W^+$, also that copy receives a negative status code.\n",
    "\n",
    "By implication, this is the last top copy in the event record, and it provides the definitive top production kinematics, just before the decay. We can locate this final top by, e.g.:\n",
    "\n",
    "<!-- When you understand the basic principles, see if you can find several copies of the top quarks, and check the status codes to figure out why each new copy has been added. Also note how the mother/daughter indices tie together the various copies. -->\n",
    "\n"
   ]
  },
  {
   "cell_type": "code",
   "execution_count": null,
   "id": "ffbd94b5",
   "metadata": {},
   "outputs": [],
   "source": [
    "# find the final (decayed) top quark in the event\n",
    "top = None\n",
    "n_top = 0\n",
    "for prt in pythia.event:  # particle loop\n",
    "    if prt.idAbs() == 6:  # select top quark\n",
    "        top = prt\n",
    "        n_top += 1\n",
    "print(f\"There were {n_top} top quarks in the event record.\")\n",
    "print(f\"The final top quark (index {top.index()}) has ID {top.id()} (== ±6).\")\n",
    "print(f\"Its daughters have IDs {[pythia.event[x].id() for x in top.daughterList()]}.\")\n",
    "print(\"(PDG IDs 5, 24 are b, W+.)\")\n",
    "print(f\"Its transverse momentum is {top.pT():.2f} GeV.\")\n",
    "print(f\"Its pseudorapidty is {top.eta():.2f}.\")"
   ]
  },
  {
   "cell_type": "code",
   "execution_count": null,
   "id": "94b2cac1",
   "metadata": {},
   "outputs": [],
   "source": [
    "# count final-state particles\n",
    "print(f\"there are {pythia.event.size()} particles in the event\")\n",
    "final_state_particles = [prt for prt in pythia.event if prt.status() > 0]\n",
    "print(f\"there are {len(final_state_particles)} final-state particles\")"
   ]
  },
  {
   "cell_type": "markdown",
   "id": "046b66ce",
   "metadata": {},
   "source": [
    "The event record only contains information about the most-recently created (current) event.\n",
    "If we generate another event, the previous event record is lost."
   ]
  },
  {
   "cell_type": "code",
   "execution_count": null,
   "id": "08574e9c",
   "metadata": {},
   "outputs": [],
   "source": [
    "print(\"energy of the 1st collision product:\")\n",
    "p = pythia.event[3]\n",
    "print(f\"{p.e():.2f} GeV\")\n",
    "# simulate another event...\n",
    "pythia.next()\n",
    "print(\"ditto, after simulating another event:\")\n",
    "print(f\"{p.e():.2f} GeV\")"
   ]
  },
  {
   "cell_type": "markdown",
   "id": "c212d3a5",
   "metadata": {},
   "source": [
    "Notice in the above cell that we did not *redefine* `p`; the underlying data itself changed, and we have completely lost the original event.\n",
    "\n",
    "Pythia retains some summary information for us though, which we can access with [`pythia.stat()`](https://pythia.org/latest-manual/EventStatistics.html):"
   ]
  },
  {
   "cell_type": "code",
   "execution_count": null,
   "id": "dbca9522",
   "metadata": {},
   "outputs": [],
   "source": [
    "pythia.stat()"
   ]
  },
  {
   "cell_type": "markdown",
   "id": "ab003e2b",
   "metadata": {},
   "source": [
    "<a id='realisticAnalysis'></a>\n",
    "## A first realistic analysis\n",
    "\n",
    "We will now gradually expand the skeleton program from above, towards what would be needed for a more realistic analysis setup.\n",
    "\n",
    "To summarize the above,"
   ]
  },
  {
   "cell_type": "code",
   "execution_count": null,
   "id": "87f8455f",
   "metadata": {},
   "outputs": [],
   "source": [
    "# import the Pythia module\n",
    "import pythia8\n",
    "\n",
    "# create a Pythia object\n",
    "pythia = pythia8.Pythia()\n",
    "\n",
    "# configure Pythia\n",
    "pythia.readString(\"Beams:eCM = 13000.\")  # 13 TeV CM energy\n",
    "pythia.readString(\"Top:gg2ttbar = on\")  # switch on process\n",
    "\n",
    "# initialize (incoming pp beams are default)\n",
    "pythia.init()\n",
    "\n",
    "# generate an(other) event, fill event record\n",
    "pythia.next()\n",
    "\n",
    "# find the final (decayed) top quark in the event\n",
    "top = None\n",
    "for prt in pythia.event:  # particle loop\n",
    "    if prt.idAbs() == 6:  # select top quark\n",
    "        top = prt\n",
    "\n",
    "# print some statistics\n",
    "pythia.stat()"
   ]
  },
  {
   "cell_type": "markdown",
   "id": "df6a4e2b",
   "metadata": {},
   "source": [
    "In the following, we will gradually build on this skeleton to perform a simple analysis."
   ]
  },
  {
   "cell_type": "markdown",
   "id": "6be1d95b",
   "metadata": {},
   "source": [
    "Often, we wish to mix several processes together. To add the process $ \\q \\qbar \\to \\t \\tbar $ to the above example, just include another `pythia.readString` call:"
   ]
  },
  {
   "cell_type": "code",
   "execution_count": null,
   "id": "87f8455f",
   "metadata": {},
   "outputs": [],
   "source": [
    "# import the Pythia module\n",
    "import pythia8\n",
    "\n",
    "# create a Pythia object\n",
    "pythia = pythia8.Pythia()\n",
    "\n",
    "# configure Pythia\n",
    "pythia.readString(\"Beams:eCM = 13000.\")  # 13 TeV CM energy\n",
    "pythia.readString(\"Top:gg2ttbar = on\")  # switch on process\n",
    "pythia.readString(\"Top:qqbar2ttbar = on\")  # switch on another process\n",
    "\n",
    "# initialize (incoming pp beams are default)\n",
    "pythia.init()\n",
    "\n",
    "# generate an(other) event, fill event record\n",
    "pythia.next()\n",
    "\n",
    "# find the final (decayed) top quark in the event\n",
    "top = None\n",
    "for prt in pythia.event:  # particle loop\n",
    "    if prt.idAbs() == 6:  # select top quark\n",
    "        top = prt\n",
    "\n",
    "# print some statistics\n",
    "pythia.stat()"
   ]
  },
  {
   "cell_type": "markdown",
   "id": "87217ff2",
   "metadata": {},
   "source": [
    "Note that the `Pythia` object must be reinitialized whenever a new configuration is added."
   ]
  },
  {
   "cell_type": "markdown",
   "id": "ca341db6",
   "metadata": {},
   "source": [
    "Now we wish to generate more than one event, so we introduce an event loop: "
   ]
  },
  {
   "cell_type": "code",
   "execution_count": null,
   "id": "d28edf65",
   "metadata": {},
   "outputs": [],
   "source": [
    "# import the Pythia module\n",
    "import pythia8\n",
    "\n",
    "# create a Pythia object\n",
    "pythia = pythia8.Pythia()\n",
    "\n",
    "# configure Pythia\n",
    "pythia.readString(\"Beams:eCM = 13000.\")  # 13 TeV CM energy\n",
    "pythia.readString(\"Top:gg2ttbar = on\")  # switch on process\n",
    "pythia.readString(\"Top:qqbar2ttbar = on\")  # switch on another process\n",
    "\n",
    "# initialize (incoming pp beams are default)\n",
    "pythia.init()\n",
    "\n",
    "# event loop\n",
    "for _ in range(5):\n",
    "    pythia.next()\n",
    "    # find the final (decayed) top quark in the event\n",
    "    top = None\n",
    "    for prt in pythia.event:  # particle loop\n",
    "        if prt.idAbs() == 6:  # select top quark\n",
    "            top = prt\n",
    "\n",
    "# print some statistics\n",
    "pythia.stat()"
   ]
  },
  {
   "cell_type": "markdown",
   "id": "1639e781",
   "metadata": {},
   "source": [
    "During the run you may receive problem messages. These come in three kinds:\n",
    "  - a *warning* is a minor problem that is automatically fixed by the program, at least approximately;\n",
    "  - an *error* is a bigger problem, that is normally still automatically fixed by the program, by backing up and trying again;\n",
    "  - an *abort* is such a major problem that the current event could not be completed; in such a rare case `pythia.next()` is false and the event should be skipped.\n",
    "Thus the user need only be on the lookout for aborts. During event generation, a problem message is printed only the first time it occurs (except for a few special cases). The above-mentioned `pythia.stat()` will then tell you how many times each problem was encountered over the entire run."
   ]
  },
  {
   "cell_type": "code",
   "execution_count": null,
   "id": "1dcb686d",
   "metadata": {},
   "outputs": [],
   "source": [
    "# import the Pythia module\n",
    "import pythia8\n",
    "\n",
    "# create a Pythia object\n",
    "pythia = pythia8.Pythia()\n",
    "\n",
    "# configure Pythia\n",
    "pythia.readString(\"Beams:eCM = 13000.\")  # 13 TeV CM energy\n",
    "pythia.readString(\"Top:gg2ttbar = on\")  # switch on process\n",
    "pythia.readString(\"Top:qqbar2ttbar = on\")  # switch on another process\n",
    "\n",
    "# initialize (incoming pp beams are default)\n",
    "pythia.init()\n",
    "\n",
    "# event loop\n",
    "for _ in range(5):\n",
    "    if not pythia.next():\n",
    "        # skip failed events\n",
    "        continue\n",
    "    # find the final (decayed) top quark in the event\n",
    "    top = None\n",
    "    for prt in pythia.event:  # particle loop\n",
    "        if prt.idAbs() == 6:  # select top quark\n",
    "            top = prt\n",
    "\n",
    "# print some statistics\n",
    "pythia.stat()"
   ]
  },
  {
   "cell_type": "markdown",
   "id": "bc175116",
   "metadata": {},
   "source": [
    "We now want to generate more events, say 1000, to view the shape of the top quark distributions. Inside Pythia is a very simple histogram class ([`Hist`](https://pythia.org/latest-manual/Histograms.html)) that can be used for rapid check/debug purposes. To book a histogram (typically before the event loop), use the following, where the last three arguments are the number of bins, the lower edge and the upper edge of the histogram, respectively:"
   ]
  },
  {
   "cell_type": "code",
   "execution_count": null,
   "id": "5223f936",
   "metadata": {},
   "outputs": [],
   "source": [
    "h_pt = pythia8.Hist(\"top transverse momentum\", 100, 0.0, 200.0)\n",
    "h_eta = pythia8.Hist(\"top pseudorapidity\", 100, -5.0, 5.0)"
   ]
  },
  {
   "cell_type": "markdown",
   "id": "0fc0fec7",
   "metadata": {},
   "source": [
    "They can be filled with"
   ]
  },
  {
   "cell_type": "code",
   "execution_count": null,
   "id": "8def61c4",
   "metadata": {},
   "outputs": [],
   "source": [
    "h_pt.fill(top.pT())\n",
    "h_eta.fill(top.eta())"
   ]
  },
  {
   "cell_type": "markdown",
   "id": "21db831e",
   "metadata": {},
   "source": [
    "To write out the histograms, after the event loop we can write the following, typically at the end of the event loop."
   ]
  },
  {
   "cell_type": "code",
   "execution_count": null,
   "id": "7bee4f10",
   "metadata": {},
   "outputs": [],
   "source": [
    "print(h_pt)"
   ]
  },
  {
   "cell_type": "markdown",
   "id": "59a39448",
   "metadata": {},
   "source": [
    "This HBOOK notation can be a bit difficult to read. Fortunately, in Python, it is also simple to plot this histogram with `Matplotlib`:"
   ]
  },
  {
   "cell_type": "code",
   "execution_count": null,
   "id": "c5a4fe31",
   "metadata": {},
   "outputs": [],
   "source": [
    "%matplotlib inline\n",
    "import matplotlib.pyplot as plt\n",
    "x = [(x0 + x1) / 2 for x0, x1 in zip(h_pt.getBinEdges(), h_pt.getBinEdges()[1:])]\n",
    "y = h_pt.getBinContents()\n",
    "plt.plot(x, y)\n",
    "plt.xlabel(\"transverse momentum\")\n",
    "plt.show()"
   ]
  },
  {
   "cell_type": "markdown",
   "id": "e02d3b72",
   "metadata": {},
   "source": [
    "As a function:"
   ]
  },
  {
   "cell_type": "code",
   "execution_count": null,
   "id": "c9cd3675",
   "metadata": {},
   "outputs": [],
   "source": [
    "def plot(hist, xlabel=None):\n",
    "    x = [(x0 + x1)/2 for x0, x1 in zip(hist.getBinEdges(), hist.getBinEdges()[1:])]\n",
    "    y = hist.getBinContents()\n",
    "    plt.plot(x, y)\n",
    "    plt.xlabel(xlabel)\n",
    "    plt.show()"
   ]
  },
  {
   "cell_type": "markdown",
   "id": "e55535f6",
   "metadata": {},
   "source": [
    "Putting this all together, then:"
   ]
  },
  {
   "cell_type": "code",
   "execution_count": null,
   "id": "34f9bcfd",
   "metadata": {},
   "outputs": [],
   "source": [
    "# Import modules\n",
    "import matplotlib.pyplot as plt\n",
    "import pythia8\n",
    "\n",
    "# create a Pythia object\n",
    "pythia = pythia8.Pythia()\n",
    "\n",
    "# configure Pythia\n",
    "pythia.readString(\"Beams:eCM = 13000.\")  # 13 TeV CM energy\n",
    "pythia.readString(\"Top:gg2ttbar = on\")  # switch on process\n",
    "pythia.readString(\"Top:qqbar2ttbar = on\")  # switch on another process\n",
    "\n",
    "# initialize (incoming pp beams are default)\n",
    "pythia.init()\n",
    "\n",
    "# declare histograms\n",
    "h_pt = pythia8.Hist(\"top transverse momentum\", 100, 0.0, 200.0)\n",
    "h_eta = pythia8.Hist(\"top pseudorapidity\", 100, -5.0, 5.0)\n",
    "\n",
    "def plot(hist, xlabel=None):\n",
    "    x = [(x0 + x1)/2 for x0, x1 in zip(hist.getBinEdges(), hist.getBinEdges()[1:])]\n",
    "    y = hist.getBinContents()\n",
    "    plt.plot(x, y)\n",
    "    plt.xlabel(xlabel)\n",
    "    plt.show()\n",
    "\n",
    "# event loop\n",
    "for _ in range(1000):\n",
    "    if not pythia.next():\n",
    "        # skip failed events\n",
    "        continue\n",
    "    # find the final (decayed) top quark in the event\n",
    "    top = None\n",
    "    for prt in pythia.event:  # particle loop\n",
    "        if prt.idAbs() == 6:  # select top quark\n",
    "            top = prt\n",
    "    # fill histograms\n",
    "    h_pt.fill(top.pT())\n",
    "    h_eta.fill(top.eta())\n",
    "\n",
    "# print some statistics\n",
    "pythia.stat()\n",
    "\n",
    "# display histograms\n",
    "plot(h_pt, \"top transverse momentum [GeV]\")\n",
    "plot(h_eta, \"top pseudorapidity\")"
   ]
  },
  {
   "cell_type": "markdown",
   "id": "aa3c68df",
   "metadata": {},
   "source": [
    "Pythia can also write out simple Python scripts to reproduce histograms in `Matplotlib`. See [here](https://pythia.org/latest-manual/Histograms.html#section2)."
   ]
  },
  {
   "cell_type": "markdown",
   "id": "0b22118f",
   "metadata": {},
   "source": [
    "Congratulations, you've completed a simple analysis using Pythia's Python interface! Hopefully, you've gotten an idea of how powerful and flexible it is and been inspired to use it in your future work.\n",
    "\n",
    "If you have feedback about the Python interface, you can talk to Michael (the speaker) or [the Pythia authors](https://pythia.org/latest-manual/Frontpage.html#section5)."
   ]
  },
  {
   "cell_type": "markdown",
   "id": "939eaa5d",
   "metadata": {},
   "source": [
    "<a id='inputFiles'></a>\n",
    "## Appendix: Input files\n",
    "\n",
    "When running structure developed above via `C++` code, it is necessary to recompile the main program for each minor change, e.g. if you want to rerun with more statistics. This is not time-consuming for a simple  standalone run, but may become so for more realistic applications. Therefore, parameters can be put in special input \"card\" files that are read by the main program. For Python analyses, like the examples here, compilation is no longer an issue, but it can be cleaner to factorize the code from the settings that are passed to Pythia. In this way, it is easy to track settings changes vs. analysis changes.\n",
    "\n",
    "We will now create such a file, with the same settings used in the example program above."
   ]
  },
  {
   "cell_type": "code",
   "execution_count": null,
   "id": "1ac2cc99",
   "metadata": {},
   "outputs": [],
   "source": [
    "with open(\"mymain01.cmnd\", \"w\") as file:\n",
    "    file.write(\n",
    "        \"\"\"\n",
    "# t tbar production at the LHC\n",
    "Beams:idA = 2212            # first incoming beam is a 2212, i.e., a proton\n",
    "Beams:idB = 2212            # second beam is also a proton\n",
    "Beams:eCM = 13000.          # the cm energy of collisions\n",
    "Top:gg2ttbar = on           # switch on the process g g -> t tbar\n",
    "Top:qqbar2ttbar = on        # switch on the process q qbar -> t tbar\n",
    "Main:numberOfEvents = 1000  # set the number of events to generate\n",
    "\"\"\"\n",
    "    )"
   ]
  },
  {
   "cell_type": "markdown",
   "id": "100bb053",
   "metadata": {},
   "source": [
    "The `mymain01.cmnd` file can contain one command per line, of the type\n",
    "```\n",
    "variable = value\n",
    "```\n",
    "All variable names are case-insensitive (the mixing of cases has been chosen purely to improve readability) and non-alphanumeric characters (such as !, \\# or \\$) will be interpreted as the start of a comment. All valid variables are listed in the HTML manual. Cut-and-paste of variable names can be used to avoid spelling mistakes."
   ]
  },
  {
   "cell_type": "markdown",
   "id": "a996890c",
   "metadata": {},
   "source": [
    "The final step is to modify our program to use this input file. The name of this input file can be hardcoded in the main program, but for more flexibility, it can also be provided as a command-line argument when running a Python file as a script. To do this in Python, we recommend using `argparse`.\n",
    "```Python\n",
    "# set up the arguments\n",
    "import argparse\n",
    "parser = argparse.ArgumentParser(\n",
    "    description = \"Description of what the program does.\")\n",
    "parser.add_argument('-c','--cmnd', help = \"Command file.\", \n",
    "    required = True, type = str, default = \"mymain01.cmnd\")\n",
    "args = vars(parser.parse_args())\n",
    "\n",
    "# read in the command file\n",
    "pythia.readFile(args.cmnd)\n",
    "```\n",
    "Here, we can just create a Pythia instance, read in the file, and initialize."
   ]
  },
  {
   "cell_type": "code",
   "execution_count": null,
   "id": "e5864363",
   "metadata": {},
   "outputs": [],
   "source": [
    "import pythia8\n",
    "\n",
    "pythia = pythia8.Pythia()\n",
    "pythia.readFile(\"mymain01.cmnd\")\n",
    "pythia.init()\n"
   ]
  },
  {
   "cell_type": "markdown",
   "id": "71c8e0ba",
   "metadata": {},
   "source": [
    "In addition to all the internal `Pythia` variables there exist a few defined in the database but not actually used. These are intended to be useful in the main program, and thus begin with `Main:`. The most basic of those is `Main:numberOfEvents`, which you can use to specify how many events you want to generate. To make this have\n",
    "any effect, you need to read it in the main program, after the `pythia.readFile(...)` command, by a line like the following."
   ]
  },
  {
   "cell_type": "code",
   "execution_count": null,
   "id": "2c3500a5",
   "metadata": {},
   "outputs": [],
   "source": [
    "nEvent = pythia.mode(\"Main:numberOfEvents\")\n",
    "for _ in range(nEvent):\n",
    "    pythia.next()"
   ]
  },
  {
   "cell_type": "markdown",
   "id": "be1c9010",
   "metadata": {},
   "source": [
    "You are now free to play with further options in the input file, such as:\n",
    "- change the top mass, which by default is 171 GeV: `6:m0 = 175`\n",
    "- switch off final-state radiation: `PartonLevel:FSR = off`\n",
    "- switch off initial-state radiation: `PartonLevel:ISR = off`\n",
    "- switch off multiparton interactions: `PartonLevel:MPI = off`\n",
    "- different combined tunes, in particular to radiation and multiparton interactions parameters. In part this reflects that no generator is perfect, and also not all data is perfect, so different emphasis will result in different optima. `Tune:pp = 3 # (or other values between 1 and 17)`\n",
    "- all runs by default use the same random-number sequence, for reproducibility,\n",
    "but you can pick any number between 1 and 900,000,000 to obtain a unique\n",
    "sequence.\n",
    "```\n",
    "Random:setSeed = on\n",
    "Random:seed = 123456789\n",
    "```\n",
    "For instance, check the importance of FSR, ISR and MPI on the charged  multiplicity of events by switching off one component at a time. The possibility to use command-line input files is further illustrated\n",
    "e.g. in `main16.cc` and `main42.cc`.\n",
    "\n",
    "You have now completed the core part of the worksheet - congratulations! From now on you should be able to take off in different directions, depending on your interests. The following three sections contain examples of further possible studies, and can be addressed in any order.  "
   ]
  },
  {
   "cell_type": "markdown",
   "id": "8e7febb1",
   "metadata": {},
   "source": [
    "<a id='eventRecord'></a>\n",
    "## Appendix: The Event Record\n",
    "\n",
    "The event record is set up to store every step in the evolution from an initial low-multiplicity partonic process to a final high-multiplicity hadronic state, in the order that new particles are generated. The record is a vector of particles, that expands to fit the needs of the current event (plus some additional pieces of information not discussed here). Thus `event[i]` is the i'th particle of the current event, and you may study its properties by using various `event[i].method()` possibilities.\n",
    "\n",
    "The `event.list()` listing provides the main properties of each particles, by column:\n",
    "\n",
    "- `no`, the index number of the particle (`i` above);\n",
    "- `id`, the PDG particle identity code (method `id()`);\n",
    "- `name`, a plaintext rendering of the particle name (method `name()`), within brackets for initial or intermediate particles and without for final-state ones;\n",
    "- `status`, the reason why a new particle was added to the event record (method `status()`);\n",
    "- `mothers` and `daughters`, documentation on the event history (methods `mother1()`, `mother2()`, `daughter1()`, and `daughter2()`);\n",
    "- `colours`, the colour flow of the process (methods `col()` and `acol()`);\n",
    "- `p_x`, `p_y`, `p_z`, and `e`, the components of the momentum four-vector ($p_x$ , $p_y$ , $p_z$, $E$), in units of GeV with $c = 1$ (methods `px()`, `py()`, `pz()`, and `e()`);\n",
    "- m, the mass, in units as above (method `m()`).\n",
    "\n",
    "For a complete description of these and other particle properties (such as production and decay vertices, rapidity, $p_\\perp$, etc), open the [Particle Properties page](https://pythia.org/manuals/pythia8307/ParticleProperties.html) of the HTML manual. For brief summaries on the less trivial of the ones above, read on.\n",
    "\n",
    "<a id='identityCodes'></a>\n",
    "### Identity codes\n",
    "\n",
    "A complete specification of the PDG codes is found in the [Review of Particle Physics](https://pdg.lbl.gov/).\n",
    "An online listing is available from the [PDG MC numbering review](http://pdg.lbl.gov/2022/reviews/rpp2022-rev-monte-carlo-numbering.pdf). A short summary of the most common id codes would be\n",
    "\n",
    "ID | particle | ID | particle | ID | particle | ID | particle | ID | particle | ID | particle | ID | particle\n",
    "-----:|:-----|-----:|:-----|-----:|:-----|-----:|:-----|-----:|:-----|-----:|:-----|-----:|:-----\n",
    "1 | $\\d$ | 11 | $\\e^-$       | 21 | $\\g$     | 111 | $\\pi^0$             | 223 | $\\omega$            | 331 | $\\eta'$     | 2112 | $\\n$       \n",
    "2 | $\\u$ | 12 | $\\nu_{\\e}$   | 22 | $\\gamma$ | 113 | $\\rho^0$            | 310 | $\\K^0_{\\mathrm{S}}$ | 333 | $\\phi$      | 2212 | $\\p$       \n",
    "3 | $\\s$ | 13 | $\\mu^-$      | 23 | $\\Z^0$   | 130 | $\\K^0_{\\mathrm{L}}$ | 311 | $\\K^0$              | 411 | $\\D^+$      | 3112 | $\\Sigma^-$ \n",
    "4 | $\\c$ | 14 | $\\nu_{\\mu}$  | 24 | $\\W^+$   | 211 | $\\pi^+$             | 313 | $\\K^{*0}$           | 421 | $\\D^0$      | 3122 | $\\Lambda^0$\n",
    "5 | $\\b$ | 15 | $\\tau^-$     | 25 | $\\H^0$   | 213 | $\\rho^+$            | 321 | $\\K^+$              | 431 | $\\D_{\\s}^+$ | 3212 | $\\Sigma^0$ \n",
    "6 | $\\t$ | 16 | $\\nu_{\\tau}$ |    |          | 221 | $\\eta$              | 323 | $\\K^{*+}$           | 3222 | $\\Sigma^+$ \n",
    "    \n",
    "Antiparticles to the above, where existing as separate entities, are given with a negative sign. Note that simple meson and baryon codes are constructed from the constituent (anti)quark codes, with a final spin-state-counting digit $2s + 1$ ($\\K^0_{\\mathrm{L}}$ and $\\K^0_{\\mathrm{S}}$ being exceptions), and with a set of further rules to make the codes unambiguous.\n",
    "\n",
    "### Status codes\n",
    "\n",
    "When a new particle is added to the event record, it is assigned a positive status code that describes why it has been added, as follows (see the [`Particle::status` section of the Particle Properties page](https://pythia.org/manuals/pythia8307/ParticleProperties.html#anchor2) of the HTML manual for the meaning of each specific code):\n",
    "\n",
    "code range | explanation\n",
    "-----|-----\n",
    "11 - 19|beam particles\n",
    "21 - 29|particles of the hardest subprocess\n",
    "31 - 39|particles of subsequent subprocesses in multiparton interactions\n",
    "41 - 49|particles produced by initial-state-showers\n",
    "51 - 59|particles produced by final-state-showers\n",
    "61 - 69|particles produced by beam-remnant treatment\n",
    "71 - 79|partons in preparation of hadronization process\n",
    "81 - 89|primary hadrons produced by hadronization process\n",
    "91 - 99|particles produced in decay process, or by Bose-Einstein effects\n",
    "\n",
    "Whenever a particle is allowed to branch or decay further its status code is negated (but it is *never* removed from the event record), such that only particles in the final state remain with positive codes. The `isFinal()` method returns `True/False` for positive/negative status codes.\n",
    "\n",
    "### History information\n",
    "\n",
    "The two mother and two daughter indices of each particle provide  information on the history relationship between the different entries in the event record. The detailed rules depend on the particular physics  step being described, as defined by the status code. As an example, in a $2 \\to 2$ process $a b \\to c d$, the locations of $a$ and $b$ would set the mothers of $c$ and $d$, with the reverse relationship for daughters. When the two mother or daughter indices are not consecutive they define a range between the first and last entry, such as a string system consisting of several partons fragment into several hadrons.\n",
    "\n",
    "There are also several special cases. One such is when \"the same\" particle appears as a second copy, e.g. because its momentum has been shifted by it taking a recoil in the dipole picture of parton showers. Then the original has both daughter indices pointing to the same particle, which in its turn has both mother pointers referring back to the original. Another special case is the description of ISR by backwards evolution, where the mother is constructed at a later stage than the daughter, and therefore appears below it in the event listing. \n",
    "\n",
    "### Colour flow information\n",
    "\n",
    "The colour flow information is based on the Les Houches Accord convention (see [Generic User Process Interface for Event Generators](https://arxiv.org/abs/hep-ph/0109068)). In it, the number of colours is assumed infinite, so that each new colour line can be assigned a new separate colour. These colours are given consecutive labels:\n",
    "`101`, `102`, `103`, ... A gluon has both a colour and an anticolour label, an (anti)quark only (anti)colour. \n",
    "\n",
    "While colours are traced consistently through hard processes and parton showers, the subsequent beam-remnant-handling step often involves a drastic change of colour labels. Firstly, previously unrelated colours and anticolours taken from the beams may at this stage be associated with each other, and be relabelled accordingly. Secondly, it appears that the close space-time overlap of many colour fields leads to reconnections, i.e. a swapping of colour labels, that tends to reduce the total length of field lines."
   ]
  },
  {
   "cell_type": "markdown",
   "id": "6dd041f3",
   "metadata": {},
   "source": [
    "<a id='someFacilities'></a>\n",
    "# Appendix: Some facilities\n",
    "\n",
    "The *Pythia* package contains some facilities that are not part of the core generation mission, but are useful for standalone running, notably at summer schools. Here we give some brief info on histograms and jet finding.\n",
    "\n",
    "<a id='histograms'></a>\n",
    "## Histograms\n",
    "\n",
    "For real-life applications you may want to use sophisticated histogramming programs like `ROOT`, which can take time to install and learn. Within the time at our disposal, we therefore stick with the very primitive `Hist` class. Here is a simple overview of what is involved. \n",
    "\n",
    "As a first step you need to declare a histogram, with name, title, number of bins and $x$ range (from, to), like"
   ]
  },
  {
   "cell_type": "code",
   "execution_count": null,
   "id": "fd7a934e",
   "metadata": {},
   "outputs": [],
   "source": [
    "import pythia8\n",
    "\n",
    "pTH = pythia8.Hist(\"Higgs transverse momentum\", 100, 0.0, 200.0)"
   ]
  },
  {
   "cell_type": "markdown",
   "id": "ae8e257f",
   "metadata": {},
   "source": [
    "Once declared, its contents can be added by repeated calls to fill"
   ]
  },
  {
   "cell_type": "code",
   "execution_count": null,
   "id": "8c889b83",
   "metadata": {},
   "outputs": [],
   "source": [
    "pTH.fill(22.7, 1.0)"
   ]
  },
  {
   "cell_type": "markdown",
   "id": "dd930fb3",
   "metadata": {},
   "source": [
    "where the first argument is the $x$ value and the second the weight. Since the weight defaults to 1 the last argument could have been omitted in this case.\n",
    "\n",
    "A set of overloaded operators have been defined, so that histograms can be added, subtracted, divided or multiplied by each other. Then the contents are modified accordingly bin by bin. Thus the relative deviation between two histograms `data` and `theory` can be found as"
   ]
  },
  {
   "cell_type": "code",
   "execution_count": null,
   "id": "d2cbdf1c",
   "metadata": {},
   "outputs": [],
   "source": [
    "data = pythia8.Hist(\"Higgs transverse momentum - data\", 100, 0.0, 200.0)\n",
    "theory = pythia8.Hist(\"Higgs transverse momentum - theory\", 100, 0.0, 200.0)\n",
    "diff = (data - theory) / (data + theory)"
   ]
  },
  {
   "cell_type": "markdown",
   "id": "586fe936",
   "metadata": {},
   "source": [
    "assuming that `diff`, `data` and `theory` have been booked with the same number of bins and $x$ range.\n",
    "\n",
    "Also overloaded operations with double real numbers are available. Again these four operations are defined bin by bin, i.e. the corresponding amount is added to, subtracted from, multiplied by or divided by each bin. The double number can come before or after the histograms, with obvious results. Thus the inverse of a histogram result is given by `1./result`. The two kind of operations can be combined.\n",
    "\n",
    "A histogram can be printed by making use of `print`, e.g."
   ]
  },
  {
   "cell_type": "code",
   "execution_count": null,
   "id": "a94039ea",
   "metadata": {
    "scrolled": true
   },
   "outputs": [],
   "source": [
    "print(pTH)"
   ]
  },
  {
   "cell_type": "markdown",
   "id": "95a2e94f",
   "metadata": {},
   "source": [
    "The printout format is inspired by the old HBOOK one. To understand \n",
    "how to read it, consider the simplified example\n",
    "```\n",
    "        3.50*10^ 2  9                     \n",
    "        3.00*10^ 2  X   7               \n",
    "        2.50*10^ 2  X  1X               \n",
    "        2.00*10^ 2  X6 XX                \n",
    "        1.50*10^ 2  XX5XX                 \n",
    "        1.00*10^ 2  XXXXX                \n",
    "        0.50*10^ 2  XXXXX        \n",
    "\n",
    "          Contents \n",
    "            *10^ 2  31122\n",
    "            *10^ 1  47208\n",
    "            *10^ 0  79373\n",
    "\n",
    "          Low edge  -- \n",
    "            *10^ 1  10001 \n",
    "            *10^ 0  05050\n",
    "```\n",
    "The key feature is that the `Contents` and `Low edge` have to be read vertically. For instance, the first bin has the contents $3 \\times 10^2 + 4 \\times 10^1 + 7 \\times 10^0 = 347$. Correspondingly, the other bins have contents 179, 123, 207 and 283. The first bin stretches from $-(1 \\times 10^1 + 0 \\times 10^0) = -10$ to the beginning of the second bin, at $-(0 \\times 10^1 + 5 \\times 10^0) = -5$.\n",
    "\n",
    "The visual representation above the contents give a simple impression of the shape. An `X` means that the contents are filled up to this level, a digit in the topmost row the fraction to which the last level is filled. So the `9` of the first column indicates this bin is filled 9/10 of the way from $3.00 \\times 10^2 = 300$ to $3.50 \\times 10^2 = 350$, i.e. somewhere close to 345, or more precisely in the range 342.5 to 347.5.\n",
    "\n",
    "The printout also provides some other information, such as the number of entries, i.e. how many times the histogram has been filled, the total weight inside the histogram, the total weight in underflow and overflow, and the mean value and root-mean-square width (disregarding underflow and overflow). The mean and width assumes that all the contents is in the middle of the respective bin. This is especially relevant when you plot a integer quantity, such as a multiplicity. Then it makes sense to book with limits that are half-integers, e.g."
   ]
  },
  {
   "cell_type": "code",
   "execution_count": null,
   "id": "3f6ed32c",
   "metadata": {},
   "outputs": [],
   "source": [
    "multMPI = pythia8.Hist(\"number of multiparton interactions\", 20, -0.5, 19.5)"
   ]
  },
  {
   "cell_type": "markdown",
   "id": "a8a5ed2d",
   "metadata": {},
   "source": [
    "so that the bins are centered at 0, 1, 2, ..., respectively. This also avoids ambiguities which bin gets to be filled if entries are exactly at the border between two bins. Also note that the `fill(xValue)` method automatically performs a cast to double precision where necessary, i.e. `xValue` can be an integer.\n",
    "\n",
    "Histogram values can also be output to a file"
   ]
  },
  {
   "cell_type": "code",
   "execution_count": null,
   "id": "ad9fa341",
   "metadata": {},
   "outputs": [],
   "source": [
    "pTH.table(\"filename\")"
   ]
  },
  {
   "cell_type": "markdown",
   "id": "2ff26a7f",
   "metadata": {},
   "source": [
    "which produces a two-column table, where the first column gives the center of each bin and the second one the corresponding bin content. This may be used for plotting e.g. with Gnuplot.\n",
    "\n",
    "<a id='jetFinding'></a>\n",
    "## Jet finding\n",
    "\n",
    "The `SlowJet` class offer jet finding by the $\\kT$, Cambridge/Aachen and anti-$\\kT$ algorithms. By default it is now a front end to the FJcore subset, extracted from the *FastJet* package (see [FastJet user manual](https://arxiv.org/abs/1111.6097)) and distributed as part of the *Pythia* package, and is therefore no longer slow. It is good enough for basic jet studies, but does not allow for jet pruning or other more sophisticated applications. (An interface to the full FastJet package is available for such uses.)\n",
    "\n",
    "You set up `SlowJet` initially with\n",
    "```Python\n",
    "slowJet = pythia8.SlowJet(pow, radius, pTjetMin, etaMax)\n",
    "```\n",
    "where `pow = -1` for anti-$\\kT$ (recommended), `pow = 0` for Cambridge/Aachen, `pow = 1` for $\\kT$, while `radius` is the $R$ parameter, `pTjetMin` the minimum $\\pT$ of jets, and `etaMax` the maximum pseudorapidity of the detector coverage."
   ]
  },
  {
   "cell_type": "code",
   "execution_count": null,
   "id": "2dd73901",
   "metadata": {},
   "outputs": [],
   "source": [
    "import pythia8\n",
    "\n",
    "slowJet = pythia8.SlowJet(-1, 0.5, 5.0, 100.0)"
   ]
  },
  {
   "cell_type": "markdown",
   "id": "1e4732a2",
   "metadata": {},
   "source": [
    "Inside the event loop, you can analyze an event by a call\n",
    "```Python\n",
    "slowJet.analyze(pythia.event)\n",
    "```\n",
    "The jets found can be listed by `slowJet.list()`, but this is only feasible for a few events. Instead you can use the following methods:\n",
    "```Python\n",
    "slowJet.sizeJet() # gives the number of jets found,\n",
    "slowJet.pT(i)     # gives the pT for the i'th jet, and\n",
    "slowJet.y(i)      # gives the rapidity for the i'th jet.\n",
    "```\n",
    "The jets are ordered in falling $\\pT$. Below is a more complete example."
   ]
  },
  {
   "cell_type": "code",
   "execution_count": null,
   "id": "24797335",
   "metadata": {},
   "outputs": [],
   "source": [
    "# create a Pythia object\n",
    "pythia = pythia8.Pythia(\"\", False)\n",
    "pythia.readString(\"HardQCD:hardbbbar = on\")\n",
    "pythia.readString(\"Print:quiet = on\")\n",
    "pythia.init()\n",
    "\n",
    "# generate an event\n",
    "pythia.next()\n",
    "\n",
    "# build the jets\n",
    "slowJet.analyze(pythia.event)\n",
    "\n",
    "# list the event\n",
    "slowJet.list()"
   ]
  }
 ],
 "metadata": {
  "kernelspec": {
   "display_name": "Python 3.6.8 64-bit",
   "language": "python",
   "name": "python3"
  },
  "language_info": {
   "codemirror_mode": {
    "name": "ipython",
    "version": 3
   },
   "file_extension": ".py",
   "mimetype": "text/x-python",
   "name": "python",
   "nbconvert_exporter": "python",
   "pygments_lexer": "ipython3",
   "version": "3.6.8"
  },
  "vscode": {
   "interpreter": {
    "hash": "31f2aee4e71d21fbe5cf8b01ff0e069b9275f58929596ceb00d14d90e3e16cd6"
   }
  }
 },
 "nbformat": 4,
 "nbformat_minor": 5
}
